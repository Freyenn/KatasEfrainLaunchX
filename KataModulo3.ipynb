{
 "cells": [
  {
   "cell_type": "markdown",
   "metadata": {},
   "source": [
    "# Kata del Modulo 3"
   ]
  },
  {
   "cell_type": "markdown",
   "metadata": {},
   "source": [
    "Problema No.1\n",
    "\n",
    "Para este ejercicio, escribirás una lógica condicional que imprima una advertencia si un asteroide se acerca a la Tierra demasiado rápido. La velocidad del asteroide varía dependiendo de lo cerca que esté del sol, y cualquier velocidad superior a 25 kilómetros por segundo (km/s) merece una advertencia.\n",
    "\n",
    "Un asteroide se acerca, y viaja a una velocidad de 49 km/s."
   ]
  },
  {
   "cell_type": "code",
   "execution_count": 1,
   "metadata": {},
   "outputs": [
    {
     "name": "stdout",
     "output_type": "stream",
     "text": [
      "¡Advertencia! Un asteroide a alta velocidad\n"
     ]
    }
   ],
   "source": [
    "asteroide = 49\n",
    "\n",
    "if asteroide > 25 :\n",
    "    print(\"¡Advertencia! Un asteroide a alta velocidad\")\n",
    "else:\n",
    "    print(\"Todo Tranqui. Buen dia!\")"
   ]
  },
  {
   "cell_type": "markdown",
   "metadata": {},
   "source": [
    "Problema No.2\n",
    "\n",
    "Si un asteroide entra en la atmósfera de la Tierra a una velocidad mayor o igual a 20 km/s, a veces produce un rayo de luz que se puede ver desde la Tierra. Escribe la lógica condicional que usa declaraciones if, else, y elif para alertar a las personas de todo el mundo que deben buscar un asteroide en el cielo. ¡Hay uno que se dirige a la tierra ahora a una velocidad de 19 km/s!"
   ]
  },
  {
   "cell_type": "code",
   "execution_count": 2,
   "metadata": {},
   "outputs": [
    {
     "name": "stdout",
     "output_type": "stream",
     "text": [
      "Todo Tranqui. Buen dia!\n"
     ]
    }
   ],
   "source": [
    "asteroide = 19\n",
    "\n",
    "if asteroide > 20 :\n",
    "    print(\"Una Luz en el cielo\")\n",
    "elif asteroide == 20:\n",
    "    print(\"Una Luz en el cielo\")\n",
    "else:\n",
    "    print(\"Todo Tranqui. Buen dia!\")"
   ]
  },
  {
   "cell_type": "markdown",
   "metadata": {},
   "source": [
    "Problema No.3\n"
   ]
  },
  {
   "cell_type": "code",
   "execution_count": 3,
   "metadata": {},
   "outputs": [
    {
     "name": "stdout",
     "output_type": "stream",
     "text": [
      "Una Luz en el cielo\n"
     ]
    }
   ],
   "source": [
    "v_asteroide = 40\n",
    "t_asteroide = 20\n",
    "if v_asteroide > 25 and t_asteroide > 25:\n",
    "    print(\"¡Advertencia! Un gran asteroide a alta velocidad\")\n",
    "elif v_asteroide >= 20:\n",
    "    print(\"Una Luz en el cielo\")\n",
    "elif t_asteroide < 25:\n",
    "    print(\"Todo Tranqui. Buen dia!\")\n",
    "else:\n",
    "    print(\"Todo Tranqui. Buen dia!\")"
   ]
  },
  {
   "cell_type": "markdown",
   "metadata": {},
   "source": [
    "Luis Efraín López García\n",
    "\n",
    "* Github: [EfrainLopez](https://github.com/Freyenn)\n",
    "* Instagram: [@freyenn](https://www.instagram.com/freyenn)"
   ]
  }
 ],
 "metadata": {
  "interpreter": {
   "hash": "641d342882356646940a11497e9e1f06d24a89c1aa2979893d241d5b0d95685b"
  },
  "kernelspec": {
   "display_name": "Python 3.9.7 64-bit",
   "language": "python",
   "name": "python3"
  },
  "language_info": {
   "codemirror_mode": {
    "name": "ipython",
    "version": 3
   },
   "file_extension": ".py",
   "mimetype": "text/x-python",
   "name": "python",
   "nbconvert_exporter": "python",
   "pygments_lexer": "ipython3",
   "version": "3.9.7"
  },
  "orig_nbformat": 4
 },
 "nbformat": 4,
 "nbformat_minor": 2
}
