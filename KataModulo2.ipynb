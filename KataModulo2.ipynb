{
 "cells": [
  {
   "cell_type": "markdown",
   "metadata": {},
   "source": [
    "# Kata del Modulo 2"
   ]
  },
  {
   "cell_type": "markdown",
   "metadata": {},
   "source": [
    "## Entorno Virtual\n",
    "Evidencias : "
   ]
  },
  {
   "cell_type": "markdown",
   "metadata": {},
   "source": [
    "Activación del entorno virtual en CMD:\n",
    "\n",
    "<img src=\"https://github.com/Freyenn/KatasEfrainLaunchX/blob/main/img/venv1.PNG?raw=true\" >\n",
    "\n",
    "Checar con pip freeze librerias instaladas en el entorno:\n",
    "\n",
    "<img src=\"https://github.com/Freyenn/KatasEfrainLaunchX/blob/main/img/venv2.PNG?raw=true\" >\n",
    "\n",
    "Desactivar el entorno virtual:\n",
    "\n",
    "<img src=\"https://github.com/Freyenn/KatasEfrainLaunchX/blob/main/img/venv3.PNG?raw=true\" >\n"
   ]
  },
  {
   "cell_type": "markdown",
   "metadata": {},
   "source": [
    "Luis Efraín López García\n",
    "\n",
    "* Github: [EfrainLopez](https://github.com/Freyenn)\n",
    "* Instagram: [@freyenn](https://www.instagram.com/freyenn)"
   ]
  }
 ],
 "metadata": {
  "language_info": {
   "name": "python"
  },
  "orig_nbformat": 4
 },
 "nbformat": 4,
 "nbformat_minor": 2
}
